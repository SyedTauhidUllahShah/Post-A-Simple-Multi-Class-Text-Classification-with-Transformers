{
  "nbformat": 4,
  "nbformat_minor": 0,
  "metadata": {
    "colab": {
      "name": "Post_bert.ipynb",
      "provenance": [],
      "collapsed_sections": []
    },
    "kernelspec": {
      "name": "python3",
      "display_name": "Python 3"
    },
    "language_info": {
      "name": "python"
    }
  },
  "cells": [
    {
      "cell_type": "markdown",
      "metadata": {
        "id": "dVeWvjFVINcq"
      },
      "source": [
        "# A Simple Multi-Class Text Classification with Transformers\n",
        "\n",
        "Transformers have now become the main pillar for most of the Natural Language Processing tasks (NLP), like sentiment analysis, natural language generation, named entity recognition.\n",
        "\n",
        "In this post, I want to share a simple and easy guide for those who are just getting started in the area of language processing. The task we are going to solve is know as text classification or text tagging, where the goal is to categorize text into organized groups (e.g. sentiment, product categories, gender).\n",
        "\n",
        "The dataset we will use is the [emotion-cause dataset](https://www.site.uottawa.ca/~diana/resources/emotion_stimulus_data/#:~:text=The%20Emotion%20Cause%20dataset%20contains,the%20end%20of%20the%20span.&text=The%20tags%20indicates%20the%20cause,of%20the%20sentence%20%E2%80%94%20Happiness%20here.), which contains 2414 sentences tagged with emotion. The main reasons to use this dataset are: (1) to show you that you don't need huge datasets with thousands of records to build a good classifier, and (2) it contains 7 classes, as far as I know, the current tutorials focus on two classes and without the background in NLP or Machine Learning (ML) is hard to pass from a binary classification to a multi-class classifications.\n",
        "\n",
        "Lets start!\n",
        "\n"
      ]
    },
    {
      "cell_type": "markdown",
      "metadata": {
        "id": "_UYv-Wx_5PeB"
      },
      "source": [
        "## Data preparation\n",
        "The first step is to download our dataset and pre-prosed it. The preprocess_emotion_casuse.py script that I created will generate the standard input for the function [tf.keras.preprocessing.text_dataset_from_directory](https://www.tensorflow.org/api_docs/python/tf/keras/preprocessing/text_dataset_from_directory) which returns a [tf.data.Dataset](https://www.tensorflow.org/api_docs/python/tf/data/Dataset) that yields batches of texts from the subdirectories.\n",
        " \n",
        "The [tf.keras.preprocessing.text_dataset_from_directory](https://www.tensorflow.org/api_docs/python/tf/keras/preprocessing/text_dataset_from_directory) exptect a ditectiry containing subdirectories (one per class) each containing text files for a class.\n",
        "\n",
        "emotion_directory/<br>\n",
        "...emotion_a/<br>\n",
        "......a_text_1.txt<br>\n",
        "......a_text_2.txt<br>\n",
        "...emotion_b/<br>\n",
        "......b_text_1.txt<br>\n",
        "......b_text_2.txt<br>"
      ]
    },
    {
      "cell_type": "code",
      "metadata": {
        "id": "DQ63I2OUWgiB"
      },
      "source": [
        ""
      ],
      "execution_count": null,
      "outputs": []
    },
    {
      "cell_type": "code",
      "metadata": {
        "colab": {
          "base_uri": "https://localhost:8080/"
        },
        "id": "x68L9CYG3MiA",
        "outputId": "b70ae6e4-34a4-4caa-bf57-8e9546a92419"
      },
      "source": [
        "import shutil\n",
        "from xml.dom import minidom\n",
        "\n",
        "# download dataset & unzip dataset\n",
        "! wget http://www.eecs.uottawa.ca/~diana/resources/emotion_stimulus_data/Dataset.zip\n",
        "shutil.unpack_archive('Dataset.zip')\n",
        "\n",
        "! python preprocess_emotion_casue.py --input_path Dataset"
      ],
      "execution_count": 1,
      "outputs": [
        {
          "output_type": "stream",
          "text": [
            "--2021-07-09 02:59:33--  http://www.eecs.uottawa.ca/~diana/resources/emotion_stimulus_data/Dataset.zip\n",
            "Resolving www.eecs.uottawa.ca (www.eecs.uottawa.ca)... 137.122.24.222\n",
            "Connecting to www.eecs.uottawa.ca (www.eecs.uottawa.ca)|137.122.24.222|:80... connected.\n",
            "HTTP request sent, awaiting response... 302 Found\n",
            "Location: http://www.site.uottawa.ca/~diana/resources/emotion_stimulus_data/Dataset.zip [following]\n",
            "--2021-07-09 02:59:33--  http://www.site.uottawa.ca/~diana/resources/emotion_stimulus_data/Dataset.zip\n",
            "Resolving www.site.uottawa.ca (www.site.uottawa.ca)... 137.122.24.222\n",
            "Reusing existing connection to www.eecs.uottawa.ca:80.\n",
            "HTTP request sent, awaiting response... 301 Moved Permanently\n",
            "Location: https://www.site.uottawa.ca/~diana/resources/emotion_stimulus_data/Dataset.zip [following]\n",
            "--2021-07-09 02:59:33--  https://www.site.uottawa.ca/~diana/resources/emotion_stimulus_data/Dataset.zip\n",
            "Connecting to www.site.uottawa.ca (www.site.uottawa.ca)|137.122.24.222|:443... connected.\n",
            "HTTP request sent, awaiting response... 200 OK\n",
            "Length: 107909 (105K) [application/zip]\n",
            "Saving to: ‘Dataset.zip’\n",
            "\n",
            "Dataset.zip         100%[===================>] 105.38K  --.-KB/s    in 0.1s    \n",
            "\n",
            "2021-07-09 02:59:33 (722 KB/s) - ‘Dataset.zip’ saved [107909/107909]\n",
            "\n"
          ],
          "name": "stdout"
        }
      ]
    },
    {
      "cell_type": "markdown",
      "metadata": {
        "id": "MB7fLcqF5J6u"
      },
      "source": [
        "## Multi-label Classifier\n",
        "\n",
        "In the following section, you will learn how to build a Multi-label classifier using a pre-train Bert model."
      ]
    },
    {
      "cell_type": "code",
      "metadata": {
        "id": "HNHTXcYMGWgM",
        "colab": {
          "base_uri": "https://localhost:8080/"
        },
        "outputId": "7271310a-63f7-49cc-a068-375df2b1915f"
      },
      "source": [
        "# Intall requiered libraries\n",
        "!pip install -q -U tensorflow-text"
      ],
      "execution_count": null,
      "outputs": [
        {
          "output_type": "stream",
          "text": [
            "\u001b[K     |████████████████████████████████| 4.3MB 9.6MB/s \n",
            "\u001b[?25h"
          ],
          "name": "stdout"
        }
      ]
    },
    {
      "cell_type": "code",
      "metadata": {
        "colab": {
          "base_uri": "https://localhost:8080/"
        },
        "id": "cNp6V7Pt3Dh6",
        "outputId": "d4ee5288-425d-4f62-effe-d7ec8f364f42"
      },
      "source": [
        "!pip install -q tf-models-official"
      ],
      "execution_count": null,
      "outputs": [
        {
          "output_type": "stream",
          "text": [
            "\u001b[K     |████████████████████████████████| 1.6MB 10.2MB/s \n",
            "\u001b[K     |████████████████████████████████| 645kB 40.8MB/s \n",
            "\u001b[K     |████████████████████████████████| 686kB 41.9MB/s \n",
            "\u001b[K     |████████████████████████████████| 358kB 44.6MB/s \n",
            "\u001b[K     |████████████████████████████████| 61kB 7.4MB/s \n",
            "\u001b[K     |████████████████████████████████| 51kB 5.9MB/s \n",
            "\u001b[K     |████████████████████████████████| 215kB 34.8MB/s \n",
            "\u001b[K     |████████████████████████████████| 38.2MB 77kB/s \n",
            "\u001b[K     |████████████████████████████████| 102kB 9.9MB/s \n",
            "\u001b[K     |████████████████████████████████| 1.2MB 31.7MB/s \n",
            "\u001b[?25h  Building wheel for seqeval (setup.py) ... \u001b[?25l\u001b[?25hdone\n",
            "  Building wheel for py-cpuinfo (setup.py) ... \u001b[?25l\u001b[?25hdone\n"
          ],
          "name": "stdout"
        }
      ]
    },
    {
      "cell_type": "code",
      "metadata": {
        "id": "RZ6x8Kg_GnZ8"
      },
      "source": [
        "# Import libraries\n",
        "import tensorflow as tf\n",
        "import tensorflow_hub as hub\n",
        "import tensorflow_text as text"
      ],
      "execution_count": null,
      "outputs": []
    },
    {
      "cell_type": "markdown",
      "metadata": {
        "id": "AUp-sUWoG8DG"
      },
      "source": [
        "Now we are going to load the dataset as a Tensorflow Datasets, using the pre-processing dataset from the previous section. We will have 3 datasets:\n",
        "* Train: to fit the parameters on the training models.\n",
        "* Validation: to provides an unbiased evaluation of the training dataset while training the model.\n",
        "* Test: to provide an unbiased evaluation of a final model fit on the training dataset."
      ]
    },
    {
      "cell_type": "code",
      "metadata": {
        "colab": {
          "base_uri": "https://localhost:8080/"
        },
        "id": "d2YsUbhMG6Ch",
        "outputId": "e20bc82c-938b-4645-aad9-4469754a7f5b"
      },
      "source": [
        "AUTOTUNE = tf.data.AUTOTUNE\n",
        "batch_size = 32\n",
        "seed = 42\n",
        "\n",
        "raw_train_ds = tf.keras.preprocessing.text_dataset_from_directory(\n",
        "    'emotions/train',\n",
        "    batch_size=batch_size,\n",
        "    validation_split=0.2,\n",
        "    subset='training',\n",
        "    seed=seed)\n",
        "\n",
        "class_names = raw_train_ds.class_names\n",
        "train_ds = raw_train_ds.cache().prefetch(buffer_size=AUTOTUNE)\n",
        "\n",
        "val_ds = tf.keras.preprocessing.text_dataset_from_directory(\n",
        "    'emotions/train',\n",
        "    batch_size=batch_size,\n",
        "    validation_split=0.2,\n",
        "    subset='validation',\n",
        "    seed=seed)\n",
        "\n",
        "val_ds = val_ds.cache().prefetch(buffer_size=AUTOTUNE)\n",
        "\n",
        "test_ds = tf.keras.preprocessing.text_dataset_from_directory(\n",
        "    'emotions/test',\n",
        "    batch_size=batch_size)\n",
        "\n",
        "test_ds = test_ds.cache().prefetch(buffer_size=AUTOTUNE)\n",
        "\n",
        "12222222222222222knaljshdpahdsña idhjañ hdñqohdñ hjdña lkhd añdñakhdñ anksdñ akdns"
      ],
      "execution_count": null,
      "outputs": [
        {
          "output_type": "stream",
          "text": [
            "Found 1929 files belonging to 7 classes.\n",
            "Using 1544 files for training.\n",
            "Found 1929 files belonging to 7 classes.\n",
            "Using 385 files for validation.\n",
            "Found 483 files belonging to 7 classes.\n"
          ],
          "name": "stdout"
        }
      ]
    },
    {
      "cell_type": "markdown",
      "metadata": {
        "id": "ctUXllM7MGoC"
      },
      "source": [
        "### Load Pre-train Bert Model\n",
        "\n",
        "In this example, I'll use the small_bert for English, if you want to can use any other of the available pre-train variations from [here](https://tfhub.dev/s?publisher=tensorflow&q=bert)"
      ]
    },
    {
      "cell_type": "code",
      "metadata": {
        "id": "1M5rpzT_JVvi"
      },
      "source": [
        "tfhub_handle_encoder = 'https://tfhub.dev/tensorflow/small_bert/bert_en_uncased_L-2_H-128_A-2/1'\n",
        "tfhub_handle_preprocess = 'https://tfhub.dev/tensorflow/bert_en_uncased_preprocess/3'\n",
        "\n",
        "# Load preprocessin / tokens to id for Bert model\n",
        "bert_preprocess_model = hub.KerasLayer(tfhub_handle_preprocess)\n",
        "\n",
        "# Load bert model\n",
        "bert_model = hub.KerasLayer(tfhub_handle_encoder)"
      ],
      "execution_count": null,
      "outputs": []
    },
    {
      "cell_type": "markdown",
      "metadata": {
        "id": "LRTx-HF0Nohz"
      },
      "source": [
        "### Model architecture\n",
        "\n",
        "Now let's build our text classifier on top of Bert. The model consists of 5 layers:\n",
        "* text_input layer: to input the str sentences.\n",
        "* preprocessing_layer : Process the text_input layer into the Bert format.\n",
        "* encoder: Generate the embedding representation of the sentence.\n",
        "* Dropout: Turn off 10% of the neurons to avoid overfiring.\n",
        "* classifier: categorize the sentence embedding representation from Bert into one of the 7 classes\n",
        "\n"
      ]
    },
    {
      "cell_type": "code",
      "metadata": {
        "id": "3iwbUwODMQK-"
      },
      "source": [
        "def build_classifier_model(num_classes: int):\n",
        "  text_input = tf.keras.layers.Input(shape=(), dtype=tf.string, name='text')\n",
        "  \n",
        "  preprocessing_layer = hub.KerasLayer(tfhub_handle_preprocess, name='preprocessing')\n",
        "  encoder_inputs = preprocessing_layer(text_input)\n",
        "  encoder = hub.KerasLayer(tfhub_handle_encoder, trainable=True, name='BERT_encoder')\n",
        "  outputs = encoder(encoder_inputs)\n",
        "  \n",
        "  # funtional neural network\n",
        "  net = outputs['pooled_output']\n",
        "  net = tf.keras.layers.Dropout(0.1)(net)\n",
        "  net = tf.keras.layers.Dense(num_classes, activation='softmax', name='classifier')(net)\n",
        "  return tf.keras.Model(text_input, net)\n",
        "\n",
        "  # Build classifier\n",
        "classifier_model = build_classifier_model(len(class_names))"
      ],
      "execution_count": null,
      "outputs": []
    },
    {
      "cell_type": "markdown",
      "metadata": {
        "id": "crO_7kp6ZNbN"
      },
      "source": [
        ""
      ]
    },
    {
      "cell_type": "code",
      "metadata": {
        "id": "7rFu8tTGNv4e"
      },
      "source": [
        "# Build classifier\n",
        "classifier_model = build_classifier_model(len(class_names))"
      ],
      "execution_count": null,
      "outputs": []
    },
    {
      "cell_type": "code",
      "metadata": {
        "colab": {
          "base_uri": "https://localhost:8080/",
          "height": 466
        },
        "id": "lR_oJp5zOnj5",
        "outputId": "fe311160-3cfb-4ccd-ce55-32d46a38b727"
      },
      "source": [
        "# Model architecture\n",
        "tf.keras.utils.plot_model(classifier_model)"
      ],
      "execution_count": null,
      "outputs": [
        {
          "output_type": "execute_result",
          "data": {
            "image/png": "[encoded data removed]",
            "text/plain": [
              "<IPython.core.display.Image object>"
            ]
          },
          "metadata": {
            "tags": []
          },
          "execution_count": 14
        }
      ]
    },
    {
      "cell_type": "markdown",
      "metadata": {
        "id": "9BwrHfI-RQRy"
      },
      "source": [
        "### Training\n",
        "\n",
        "We are going to train our model for 5 epochs, which is more than enough for this experiment."
      ]
    },
    {
      "cell_type": "code",
      "metadata": {
        "id": "o-yQkyuMOHkQ"
      },
      "source": [
        "# Loss function\n",
        "loss = tf.keras.losses.CategoricalCrossentropy(from_logits=True)\n",
        "metrics = tf.metrics.CategoricalCrossentropy()\n",
        "\n",
        "# compile bert model\n",
        "classifier_model.compile(optimizer='adam',\n",
        "                         loss='sparse_categorical_crossentropy',\n",
        "                         metrics=['acc'])\n"
      ],
      "execution_count": null,
      "outputs": []
    },
    {
      "cell_type": "code",
      "metadata": {
        "colab": {
          "base_uri": "https://localhost:8080/"
        },
        "id": "SiRhep9hO2O5",
        "outputId": "02d85755-6771-4c30-97cf-2d51eb231a46"
      },
      "source": [
        "# Training Bert\n",
        "print(f'Training model with {tfhub_handle_encoder}')\n",
        "history = classifier_model.fit(x=train_ds,\n",
        "                               validation_data=val_ds,\n",
        "                               epochs=5)"
      ],
      "execution_count": null,
      "outputs": [
        {
          "output_type": "stream",
          "text": [
            "Training model with https://tfhub.dev/tensorflow/small_bert/bert_en_uncased_L-2_H-128_A-2/1\n",
            "Epoch 1/5\n",
            "49/49 [==============================] - 31s 560ms/step - loss: 1.6849 - acc: 0.3523 - val_loss: 0.7688 - val_acc: 0.7792\n",
            "Epoch 2/5\n",
            "49/49 [==============================] - 27s 543ms/step - loss: 0.3925 - acc: 0.9003 - val_loss: 0.2930 - val_acc: 0.9195\n",
            "Epoch 3/5\n",
            "49/49 [==============================] - 26s 535ms/step - loss: 0.1311 - acc: 0.9728 - val_loss: 0.2883 - val_acc: 0.9273\n",
            "Epoch 4/5\n",
            "49/49 [==============================] - 27s 544ms/step - loss: 0.0917 - acc: 0.9845 - val_loss: 0.2560 - val_acc: 0.9403\n",
            "Epoch 5/5\n",
            "49/49 [==============================] - 26s 541ms/step - loss: 0.0491 - acc: 0.9909 - val_loss: 0.2784 - val_acc: 0.9351\n"
          ],
          "name": "stdout"
        }
      ]
    },
    {
      "cell_type": "markdown",
      "metadata": {
        "id": "pcBd6RNUR0Uu"
      },
      "source": [
        "### Evaluation\n",
        "\n",
        "The final step is to evaluate the accuracy of the model on the test dataset."
      ]
    },
    {
      "cell_type": "code",
      "metadata": {
        "colab": {
          "base_uri": "https://localhost:8080/"
        },
        "id": "4KRaTwbHR46m",
        "outputId": "7a2dd56c-185e-41c9-b1a6-c947616357db"
      },
      "source": [
        "loss, accuracy = classifier_model.evaluate(test_ds)\n",
        "\n",
        "print(f'Loss: {loss}')\n",
        "print(f'Accuracy: {accuracy}')"
      ],
      "execution_count": null,
      "outputs": [
        {
          "output_type": "stream",
          "text": [
            "16/16 [==============================] - 2s 144ms/step - loss: 0.2980 - acc: 0.9400\n",
            "Loss: 0.2980015277862549\n",
            "Accuracy: 0.9399585723876953\n"
          ],
          "name": "stdout"
        }
      ]
    },
    {
      "cell_type": "markdown",
      "metadata": {
        "id": "YAY2Puc5SJvj"
      },
      "source": [
        "To predict a single sentence:"
      ]
    },
    {
      "cell_type": "code",
      "metadata": {
        "colab": {
          "base_uri": "https://localhost:8080/"
        },
        "id": "BqcuGfjTShvI",
        "outputId": "297bfa20-a6d7-46e3-acc8-4d851039361d"
      },
      "source": [
        "preduction = classifier_model.predict(['I have fear to the ghost'])\n",
        "for class_pos in preduction.argmax(axis=1):\n",
        "  print(class_names[class_pos])"
      ],
      "execution_count": null,
      "outputs": [
        {
          "output_type": "stream",
          "text": [
            "fear\n"
          ],
          "name": "stdout"
        }
      ]
    },
    {
      "cell_type": "markdown",
      "metadata": {
        "id": "3LkjIZLkTT9b"
      },
      "source": [
        "### Save model\n",
        "\n",
        "Finally, we are going to save our model."
      ]
    },
    {
      "cell_type": "code",
      "metadata": {
        "id": "RWoS72mNSpdG"
      },
      "source": [
        "# Save model\n",
        "classifier_model.save('bert_multi_label_classifier.h5')"
      ],
      "execution_count": null,
      "outputs": []
    }
  ]
}